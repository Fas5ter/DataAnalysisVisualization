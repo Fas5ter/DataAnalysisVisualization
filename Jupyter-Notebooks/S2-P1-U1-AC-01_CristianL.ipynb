{
 "cells": [
  {
   "cell_type": "markdown",
   "metadata": {},
   "source": [
    "# University of Colima\n",
    "# Faculty of Mechanical and Electrical Engineering\n",
    "# Intelligent Computing Engineering \n",
    "# Data Analysis and Visualization\n",
    "# 6°D\n",
    "# CRISTIAN ARMANDO LARIOS BRAVO"
   ]
  },
  {
   "cell_type": "markdown",
   "metadata": {},
   "source": [
    "### 5 Things what i learned from the development of this activity:\n",
    "* Jupyter Notebooks knowledge reinforcement\n",
    "* How works list on Python to store collections of data\n",
    "* Do a work with English language.\n",
    "* How works the functions on Python.\n",
    "* What is CRUD? and how to make an example\n"
   ]
  },
  {
   "cell_type": "markdown",
   "metadata": {},
   "source": [
    "# S2-P1-U1-AC-01 CRUD Operations  Using List Structures in Python\n",
    "### Connect.  Lists structures are used to store multiple items in a single variable. Lists are one of 4 built-in data types in Python used to store collections of data.\n",
    "\n",
    "### **DEVELOPPING**\n",
    "1. Write a script in python to perform the four operations (CRUD), plus a function to list the elements of the list\n",
    "2. Add a function named \"Dashboard\" to display a list of options for the user to select one of the program's five functions\n",
    "3. In this exercise use the jupyter notebook  because they are very important for your professional field.\n",
    "4. Test the functionality of the program with at least 10 items until you are sure that it works correctly"
   ]
  },
  {
   "cell_type": "markdown",
   "metadata": {},
   "source": [
    "### Libraries/Modules"
   ]
  },
  {
   "cell_type": "code",
   "execution_count": 8,
   "metadata": {},
   "outputs": [],
   "source": [
    "import os\n",
    "import time"
   ]
  },
  {
   "cell_type": "markdown",
   "metadata": {},
   "source": [
    "### 1 "
   ]
  },
  {
   "cell_type": "code",
   "execution_count": 9,
   "metadata": {},
   "outputs": [],
   "source": [
    "# C - Create (Insert)\n",
    "def create(items):\n",
    "    opc = str(input(\"Which data type do you want to insert?\\n \\\n",
    "        1.) String\\n \\\n",
    "        2.) Integer\\n \\\n",
    "        3.) Float\\n  \\\n",
    "        4.) List\\n  \\\n",
    "        5.) Tuple\\n  \\\n",
    "        6.) Dictionary\\n  \\\n",
    "        Answer =>\"))\n",
    "    match opc:\n",
    "        case \"1\":\n",
    "            element = str(input(\"Enter the string: \"))\n",
    "            items.append(element)\n",
    "        case \"2\":\n",
    "            element = int(input(\"Enter the integer: \"))\n",
    "            items.append(element)\n",
    "        case \"3\":\n",
    "            element = float(input(\"Enter the float: \"))\n",
    "            items.append(element)\n",
    "        case \"4\":\n",
    "            element = []\n",
    "            items.append(element)\n",
    "        case \"5\":\n",
    "            element = ()\n",
    "            items.append(element)\n",
    "        case \"6\":\n",
    "            element = {}\n",
    "            items.append(element)\n",
    "        case default:\n",
    "            print(\"Invalid Option\")\n",
    "    return items\n",
    "    \n",
    "\n",
    "# R - Read (Print)\n",
    "def read(items: list):\n",
    "    index = int(input(\"Enter the index of the item to read: \"))\n",
    "    print(items[index])\n",
    "\n",
    "# U - Update (Changes the value with a index of the list to update)\n",
    "def update(items: list):\n",
    "    print(items)\n",
    "    index = int(input(\"Enter the index of the item to update: \"))\n",
    "    items[index] = input(\"Enter the new value: \")\n",
    "    return items\n",
    "    \n",
    "\n",
    "# D - Delete (Delete a value from the list)\n",
    "def delete(items: list):\n",
    "    print(items)\n",
    "    index = int(input(\"Enter the index of the item to delete: \"))\n",
    "    items.pop(index)\n",
    "    return items\n",
    "\n",
    "# viewAll - View all the items in the list\n",
    "def viewAll(items: list):\n",
    "    for i in range(len(items)):\n",
    "        print(f\"{i} => {items[i]}\")"
   ]
  },
  {
   "cell_type": "markdown",
   "metadata": {},
   "source": [
    "### 2"
   ]
  },
  {
   "cell_type": "code",
   "execution_count": 10,
   "metadata": {},
   "outputs": [
    {
     "name": "stdout",
     "output_type": "stream",
     "text": [
      "*** CRUD Operations Using List Structures in Python ***\n",
      "Element added successfully\n",
      "Element added successfully\n",
      "Element added successfully\n",
      "Element added successfully\n",
      "Element added successfully\n",
      "Element added successfully\n",
      "Element added successfully\n",
      "Element added successfully\n",
      "Element added successfully\n",
      "Element added successfully\n",
      "()\n",
      "['cristian', 20, 3.1416, [], (), {}, 'larios', 30, 40.67, 'armando']\n",
      "Element updated successfully\n",
      "Element added successfully\n",
      "['cristian', 20, 3.1416, [], (), {}, 'larios', 30, 40.67, 'bravo', 'hola']\n",
      "Element deleted successfully\n",
      "0 => cristian\n",
      "1 => 20\n",
      "2 => 3.1416\n",
      "3 => []\n",
      "4 => ()\n",
      "5 => {}\n",
      "6 => larios\n",
      "7 => 30\n",
      "8 => 40.67\n",
      "9 => bravo\n"
     ]
    }
   ],
   "source": [
    "# Dashboard Function\n",
    "def dashboard():\n",
    "    items = []\n",
    "    print(\"*** CRUD Operations Using List Structures in Python ***\")\n",
    "    while True:\n",
    "        opc = str(input(\"Which option do you want to do?\\n \\\n",
    "            1) Create an item in the list (insert).\\n \\\n",
    "            2) Read (prints an item from the list).\\n \\\n",
    "            3) Update (change the value of an item in the list).\\n \\\n",
    "            4) Delete (delete an element from the list).\\n \\\n",
    "            5) List the elements of the list. \\n \\\n",
    "            6) Exit.\"))\n",
    "    # ADD OPTIONES ON THE MENU\n",
    "        match opc:\n",
    "            case \"1\":\n",
    "                items = create(items)\n",
    "                print(\"Element added successfully\")\n",
    "                time.sleep(2)\n",
    "            case \"2\":\n",
    "                read(items)\n",
    "            case \"3\":\n",
    "                items = update(items)\n",
    "                print(\"Element updated successfully\")\n",
    "                time.sleep(2)\n",
    "            case \"4\":\n",
    "                items  =  delete(items)\n",
    "                print(\"Element deleted successfully\")\n",
    "                time.sleep(2)\n",
    "            case \"5\":\n",
    "                viewAll(items)\n",
    "            case \"6\":\n",
    "                break\n",
    "            case default:\n",
    "                print(\"Invalid option...\")\n",
    "                time.sleep(3)\n",
    "        os.system(\"clear\")\n",
    "\n",
    "# Main function\n",
    "\n",
    "def main():\n",
    "    dashboard()\n",
    "    \n",
    "main()"
   ]
  }
 ],
 "metadata": {
  "kernelspec": {
   "display_name": "Python 3",
   "language": "python",
   "name": "python3"
  },
  "language_info": {
   "codemirror_mode": {
    "name": "ipython",
    "version": 3
   },
   "file_extension": ".py",
   "mimetype": "text/x-python",
   "name": "python",
   "nbconvert_exporter": "python",
   "pygments_lexer": "ipython3",
   "version": "3.11.5"
  }
 },
 "nbformat": 4,
 "nbformat_minor": 2
}
